{
 "cells": [
  {
   "cell_type": "code",
   "execution_count": 3,
   "metadata": {},
   "outputs": [],
   "source": [
    "# Veri Görselleşitirme \n",
    "# Ömer SEVİNÇ\n",
    "\n",
    "from bokeh.plotting import figure  # Grafik oluşturmak için gerekli sınfı ekliyorum\n",
    "from bokeh.io import output_file, show # Grafiği dosya olarak kaydetmek ve görüntülemek için gerekli fonk\n",
    "import pandas # dışarıdan bir kaynak dosyadan okuma yapıp verileri dizi olarak almak için eklendi \n",
    "\n",
    "# verileri hazırla \n",
    "df = pandas.read_csv(\"verilerxy.csv\", sep=\";\")\n",
    "x1 = df[\"x\"]\n",
    "y1 = df[\"y\"]\n",
    "\n",
    "#x =[1,2,3,4,5]\n",
    "#y =[6,7,8,9,10]\n",
    "\n",
    "# çıktıyı hazırla \n",
    "output_file(\"grafik.html\")\n",
    "\n",
    "f = figure()\n",
    "f.triangle(x1,y1)\n",
    "show(f)\n"
   ]
  },
  {
   "cell_type": "code",
   "execution_count": null,
   "metadata": {},
   "outputs": [],
   "source": []
  },
  {
   "cell_type": "code",
   "execution_count": null,
   "metadata": {},
   "outputs": [],
   "source": []
  },
  {
   "cell_type": "code",
   "execution_count": 8,
   "metadata": {},
   "outputs": [],
   "source": [
    "# Veri Görselleşitirme \n",
    "# Ömer SEVİNÇ\n",
    "\n",
    "from bokeh.plotting import figure\n",
    "from bokeh.io import output_file, show\n",
    "import pandas\n",
    "\n",
    "# verileri hazırla \n",
    "df = pandas.read_csv(\"data.csv\")\n",
    "x1 = df[\"x\"]\n",
    "y1 = df[\"y\"]\n",
    "\n",
    "\n",
    "# çıktıyı hazırla \n",
    "output_file(\"Line2.html\")\n",
    "\n",
    "f2 = figure()\n",
    "\n",
    "f2.circle(x1,y1)\n",
    "\n",
    "show(f2)\n"
   ]
  },
  {
   "cell_type": "code",
   "execution_count": 9,
   "metadata": {},
   "outputs": [],
   "source": [
    "# Veri Görselleşitirme \n",
    "# Ömer SEVİNÇ\n",
    "\n",
    "from bokeh.plotting import figure\n",
    "from bokeh.io import output_file, show\n",
    "import pandas\n",
    "\n",
    "# verileri hazırla \n",
    "df = pandas.read_csv(\"bachelors.csv\")\n",
    "x = df[\"Yil\"]\n",
    "y = df[\"Bilgisayar\"]\n",
    "\n",
    "\n",
    "# çıktıyı hazırla \n",
    "output_file(\"bilgisayar_mezun.html\")\n",
    "\n",
    "f = figure()\n",
    "\n",
    "f.line(x,y)\n",
    "\n",
    "show(f)"
   ]
  },
  {
   "cell_type": "code",
   "execution_count": 6,
   "metadata": {},
   "outputs": [],
   "source": [
    "import pandas\n",
    "import xlrd\n",
    "from bokeh.plotting import figure, output_file, show\n",
    " \n",
    "df=pandas.read_excel(\"http://pythonhow.com/data/verlegenhuken.xlsx\",sheet_name=0)\n",
    "df[\"yil\"]=df[\"Year\"]\n",
    "df[\"isi\"]=df[\"Temperature\"]\n",
    " \n",
    "p=figure(plot_width=500,plot_height=400)\n",
    " \n",
    "p.title.text=\"Sıcaklık Yıl\"\n",
    "p.title.text_color=\"Gray\"\n",
    "p.title.text_font=\"arial\"\n",
    "p.title.text_font_style=\"bold\"\n",
    "#p.xaxis.minor_tick_line_color=None\n",
    "#p.yaxis.minor_tick_line_color=None\n",
    "p.xaxis.axis_label=\"Yıl\"\n",
    "p.yaxis.axis_label=\"Isı (C)\"    \n",
    " \n",
    "p.circle(df[\"yil\"],df[\"isi\"],size=0.5)\n",
    "output_file(\"havadurum.html\")\n",
    "show(p)"
   ]
  },
  {
   "cell_type": "code",
   "execution_count": 5,
   "metadata": {},
   "outputs": [],
   "source": [
    "# Veri Görselleşitirme \n",
    "# Ömer SEVİNÇ\n",
    "\n",
    "from bokeh.plotting import figure\n",
    "from bokeh.io import output_file, show\n",
    "import pandas\n",
    "\n",
    "\n",
    "# verileri hazırla \n",
    "df = pandas.read_csv(\"XU100.IS.csv\",parse_dates=True)  # csv dosyasını okur \n",
    "x = pandas.to_datetime(df['Date'])  # Tarih değerini ayrıştırarak alır \n",
    "y = df[\"Close\"]  # kapanış değerlerini alır\n",
    "\n",
    "\n",
    "# çıktıyı hazırla \n",
    "output_file(\"borsa.html\")  #çıktı dosyası belirlenir \n",
    "\n",
    "f = figure()  #çizim nesnesini oluşturur \n",
    "\n",
    "f.line(x,y)  # çizimi line olarak yapar \n",
    "\n",
    "show(f)  # grafiği görüntüler "
   ]
  },
  {
   "cell_type": "code",
   "execution_count": null,
   "metadata": {},
   "outputs": [],
   "source": []
  },
  {
   "cell_type": "code",
   "execution_count": null,
   "metadata": {},
   "outputs": [],
   "source": []
  }
 ],
 "metadata": {
  "kernelspec": {
   "display_name": "Python 3",
   "language": "python",
   "name": "python3"
  },
  "language_info": {
   "codemirror_mode": {
    "name": "ipython",
    "version": 3
   },
   "file_extension": ".py",
   "mimetype": "text/x-python",
   "name": "python",
   "nbconvert_exporter": "python",
   "pygments_lexer": "ipython3",
   "version": "3.6.4"
  }
 },
 "nbformat": 4,
 "nbformat_minor": 2
}
